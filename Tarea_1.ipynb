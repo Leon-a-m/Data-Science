{
  "nbformat": 4,
  "nbformat_minor": 0,
  "metadata": {
    "colab": {
      "name": "Tarea 1.ipynb",
      "provenance": [],
      "collapsed_sections": [],
      "authorship_tag": "ABX9TyMem11rW13Ldbj6LhfpH9qw",
      "include_colab_link": true
    },
    "kernelspec": {
      "name": "python3",
      "display_name": "Python 3"
    },
    "accelerator": "TPU"
  },
  "cells": [
    {
      "cell_type": "markdown",
      "metadata": {
        "id": "view-in-github",
        "colab_type": "text"
      },
      "source": [
        "<a href=\"https://colab.research.google.com/github/Leonasoaso/Data-Science/blob/main/Tarea_1.ipynb\" target=\"_parent\"><img src=\"https://colab.research.google.com/assets/colab-badge.svg\" alt=\"Open In Colab\"/></a>"
      ]
    },
    {
      "cell_type": "markdown",
      "metadata": {
        "id": "tNzDMTqLGqIi"
      },
      "source": [
        "# Función para leer datos\r\n"
      ]
    },
    {
      "cell_type": "markdown",
      "metadata": {
        "id": "m161aPaXQns6"
      },
      "source": [
        "# Tarea 1 León Andrés Muñoz Serna\r\n"
      ]
    },
    {
      "cell_type": "code",
      "metadata": {
        "id": "BIoVegsIQ1uA"
      },
      "source": [
        ""
      ],
      "execution_count": null,
      "outputs": []
    },
    {
      "cell_type": "code",
      "metadata": {
        "id": "sbiunruCGrd9"
      },
      "source": [
        "\r\n",
        "import numpy as np\r\n",
        "import os\r\n",
        "import gzip\r\n",
        "\r\n",
        "def load_mnist(ruta, tipo='train'):\r\n",
        "\r\n",
        "\r\n",
        "    ruta_categorias = os.path.join(ruta, '%s-labels-idx1-ubyte.gz' % tipo)\r\n",
        "    ruta_imagenes = os.path.join(ruta, '%s-images-idx3-ubyte.gz' % tipo)\r\n",
        "    \r\n",
        "    with gzip.open(ruta_categorias, 'rb') as rut_cat:\r\n",
        "        etiquetas = np.frombuffer(rut_cat.read(), dtype=np.uint8, offset=8)\r\n",
        "\r\n",
        "    with gzip.open(ruta_imagenes, 'rb') as rut_imgs:\r\n",
        "        imagenes = np.frombuffer(rut_imgs.read(), dtype=np.uint8, offset=16).reshape(len(etiquetas), 784)\r\n",
        "\r\n",
        "    return imagenes, etiquetas"
      ],
      "execution_count": null,
      "outputs": []
    },
    {
      "cell_type": "markdown",
      "metadata": {
        "id": "_d3lEhNZGv9X"
      },
      "source": [
        " # Acceso a datos en Google Drive\r\n"
      ]
    },
    {
      "cell_type": "code",
      "metadata": {
        "colab": {
          "base_uri": "https://localhost:8080/"
        },
        "id": "qozF-QFMG3_c",
        "outputId": "002d1ad8-3b3e-47b7-c188-7caca2e21949"
      },
      "source": [
        "\r\n",
        "from google.colab import drive\r\n",
        "drive.mount('/content/gdrive')\r\n",
        "\r\n",
        "ruta = 'gdrive/My Drive/Colab Notebooks/fashion_mnist_data'\r\n",
        "\r\n",
        "X_train, Y_train = load_mnist(ruta, tipo='train')\r\n",
        "X_test, Y_test = load_mnist(ruta, tipo='test')"
      ],
      "execution_count": null,
      "outputs": [
        {
          "output_type": "stream",
          "text": [
            "Mounted at /content/gdrive\n"
          ],
          "name": "stdout"
        }
      ]
    },
    {
      "cell_type": "markdown",
      "metadata": {
        "id": "oeW9IReGJnsM"
      },
      "source": [
        "# Reajustar datos"
      ]
    },
    {
      "cell_type": "code",
      "metadata": {
        "id": "AzgKG9XCJp12"
      },
      "source": [
        "X_train = X_train[0:59904,:]\r\n",
        "X_test = X_test[0:9984,:]\r\n",
        "Y_train = Y_train[0:59904]\r\n",
        "Y_test = Y_test[0:9984]\r\n",
        "\r\n",
        "# Escala de grices de 28 X 28 \r\n",
        "X_train = np.reshape(X_train,(59904,28,28,1))\r\n",
        "X_test = np.reshape(X_test,(9984,28,28,1))"
      ],
      "execution_count": null,
      "outputs": []
    },
    {
      "cell_type": "markdown",
      "metadata": {
        "id": "Cu1WlnT5KfHP"
      },
      "source": [
        "# Importar Tensorflow2"
      ]
    },
    {
      "cell_type": "code",
      "metadata": {
        "colab": {
          "base_uri": "https://localhost:8080/"
        },
        "id": "dJF9MQHuKv6F",
        "outputId": "c684da66-013d-45c5-8701-0b3ce666a0c9"
      },
      "source": [
        "%tensorflow_version 2.x\r\n",
        "import tensorflow as tf\r\n",
        "\r\n",
        "print('Versión de Tensorflow: ' + tf.__version__)"
      ],
      "execution_count": null,
      "outputs": [
        {
          "output_type": "stream",
          "text": [
            "Versión de Tensorflow: 2.4.1\n"
          ],
          "name": "stdout"
        }
      ]
    },
    {
      "cell_type": "markdown",
      "metadata": {
        "id": "W2Q_IjmrLEKh"
      },
      "source": [
        "# Crear modelo"
      ]
    },
    {
      "cell_type": "code",
      "metadata": {
        "colab": {
          "base_uri": "https://localhost:8080/"
        },
        "id": "tomNyB2gLGZW",
        "outputId": "5b4d90be-1214-4d72-a590-4ffb34b20e4b"
      },
      "source": [
        "%tensorflow_version 2.x   # Para garantizar que la versión 2.x sea importada\r\n",
        "import tensorflow as tf\r\n",
        "print('Versión de TensorFlow: ' + tf.__version__)\r\n",
        "\r\n",
        "tf.random.set_seed(200)\r\n",
        "model = tf.keras.models.Sequential()\r\n",
        "model.add(tf.keras.layers.BatchNormalization(input_shape=X_train.shape[1:]))\r\n",
        "model.add(tf.keras.layers.Conv2D(64, (5, 5), padding='same', activation='elu'))\r\n",
        "model.add(tf.keras.layers.MaxPooling2D(pool_size=(2, 2), strides=(2,2)))\r\n",
        "model.add(tf.keras.layers.Dropout(0.25))\r\n",
        "\r\n",
        "model.add(tf.keras.layers.BatchNormalization(input_shape=X_train.shape[1:]))\r\n",
        "model.add(tf.keras.layers.Conv2D(128, (5, 5), padding='same', activation='elu'))\r\n",
        "model.add(tf.keras.layers.MaxPooling2D(pool_size=(2, 2)))\r\n",
        "model.add(tf.keras.layers.Dropout(0.25))\r\n",
        "\r\n",
        "model.add(tf.keras.layers.BatchNormalization(input_shape=X_train.shape[1:]))\r\n",
        "model.add(tf.keras.layers.Conv2D(256, (5, 5), padding='same', activation='elu'))\r\n",
        "model.add(tf.keras.layers.MaxPooling2D(pool_size=(2, 2), strides=(2,2)))\r\n",
        "model.add(tf.keras.layers.Dropout(0.25))\r\n",
        "\r\n",
        "model.add(tf.keras.layers.Flatten())\r\n",
        "model.add(tf.keras.layers.Dense(256))\r\n",
        "model.add(tf.keras.layers.Activation('elu'))\r\n",
        "model.add(tf.keras.layers.Dropout(0.5))\r\n",
        "model.add(tf.keras.layers.Dense(10))\r\n",
        "model.add(tf.keras.layers.Activation('softmax'))\r\n",
        "model.summary()\r\n",
        "\r\n",
        "model.compile(optimizer='adam',loss='sparse_categorical_crossentropy',metrics=['accuracy'])"
      ],
      "execution_count": null,
      "outputs": [
        {
          "output_type": "stream",
          "text": [
            "`%tensorflow_version` only switches the major version: 1.x or 2.x.\n",
            "You set: `2.x   # Para garantizar que la versión 2.x sea importada`. This will be interpreted as: `2.x`.\n",
            "\n",
            "\n",
            "TensorFlow is already loaded. Please restart the runtime to change versions.\n",
            "Versión de TensorFlow: 2.4.1\n",
            "Model: \"sequential_1\"\n",
            "_________________________________________________________________\n",
            "Layer (type)                 Output Shape              Param #   \n",
            "=================================================================\n",
            "batch_normalization (BatchNo (None, 28, 28, 1)         4         \n",
            "_________________________________________________________________\n",
            "conv2d (Conv2D)              (None, 28, 28, 64)        1664      \n",
            "_________________________________________________________________\n",
            "max_pooling2d (MaxPooling2D) (None, 14, 14, 64)        0         \n",
            "_________________________________________________________________\n",
            "dropout (Dropout)            (None, 14, 14, 64)        0         \n",
            "_________________________________________________________________\n",
            "batch_normalization_1 (Batch (None, 14, 14, 64)        256       \n",
            "_________________________________________________________________\n",
            "conv2d_1 (Conv2D)            (None, 14, 14, 128)       204928    \n",
            "_________________________________________________________________\n",
            "max_pooling2d_1 (MaxPooling2 (None, 7, 7, 128)         0         \n",
            "_________________________________________________________________\n",
            "dropout_1 (Dropout)          (None, 7, 7, 128)         0         \n",
            "_________________________________________________________________\n",
            "batch_normalization_2 (Batch (None, 7, 7, 128)         512       \n",
            "_________________________________________________________________\n",
            "conv2d_2 (Conv2D)            (None, 7, 7, 256)         819456    \n",
            "_________________________________________________________________\n",
            "max_pooling2d_2 (MaxPooling2 (None, 3, 3, 256)         0         \n",
            "_________________________________________________________________\n",
            "dropout_2 (Dropout)          (None, 3, 3, 256)         0         \n",
            "_________________________________________________________________\n",
            "flatten (Flatten)            (None, 2304)              0         \n",
            "_________________________________________________________________\n",
            "dense (Dense)                (None, 256)               590080    \n",
            "_________________________________________________________________\n",
            "activation (Activation)      (None, 256)               0         \n",
            "_________________________________________________________________\n",
            "dropout_3 (Dropout)          (None, 256)               0         \n",
            "_________________________________________________________________\n",
            "dense_1 (Dense)              (None, 10)                2570      \n",
            "_________________________________________________________________\n",
            "activation_1 (Activation)    (None, 10)                0         \n",
            "=================================================================\n",
            "Total params: 1,619,470\n",
            "Trainable params: 1,619,084\n",
            "Non-trainable params: 386\n",
            "_________________________________________________________________\n"
          ],
          "name": "stdout"
        }
      ]
    },
    {
      "cell_type": "markdown",
      "metadata": {
        "id": "fqHhJRa5MBBa"
      },
      "source": [
        "# Entrenamiento CPU"
      ]
    },
    {
      "cell_type": "code",
      "metadata": {
        "id": "AwL_1T5mNinc"
      },
      "source": [
        "import timeit\r\n",
        "\r\n",
        "def entrenamiento_cpu():\r\n",
        "  with tf.device('/cpu:0'):\r\n",
        "    model.fit(X_train,Y_train,validation_data=(X_test,Y_test),batch_size=128,epochs=2,verbose=1)\r\n",
        "  \r\n",
        "  return None\r\n",
        "\r\n",
        "cpu_time = timeit.timeit('entrenamiento_cpu()', number=1, setup='from __main__ import entrenamiento_cpu')"
      ],
      "execution_count": null,
      "outputs": []
    },
    {
      "cell_type": "markdown",
      "metadata": {
        "id": "Y_cc2b7mNnUh"
      },
      "source": [
        "# Disponibilidad GPU"
      ]
    },
    {
      "cell_type": "code",
      "metadata": {
        "colab": {
          "base_uri": "https://localhost:8080/"
        },
        "id": "dj54uGPmNrpv",
        "outputId": "9cf7b1f3-8273-4a2e-f8a3-23279180f647"
      },
      "source": [
        "\r\n",
        "nombre_gpu = tf.test.gpu_device_name()\r\n",
        "if nombre_gpu != '/device:GPU:0':\r\n",
        "  raise SystemError('GPU no encontrada')\r\n",
        "print('GPU encontrada: {}'.format(nombre_gpu))"
      ],
      "execution_count": null,
      "outputs": [
        {
          "output_type": "stream",
          "text": [
            "GPU encontrada: /device:GPU:0\n"
          ],
          "name": "stdout"
        }
      ]
    },
    {
      "cell_type": "code",
      "metadata": {
        "colab": {
          "base_uri": "https://localhost:8080/"
        },
        "id": "l_9Dr9v3OUO1",
        "outputId": "617fd91c-1075-4041-d7a9-6e3a357d9448"
      },
      "source": [
        "import timeit\r\n",
        "\r\n",
        "def entrenamiento_gpu():\r\n",
        "  with tf.device('/device:GPU:0'):\r\n",
        "    model.fit(X_train,Y_train,validation_data=(X_test,Y_test),batch_size=128,epochs=2,verbose=1)\r\n",
        "  \r\n",
        "  return None\r\n",
        "\r\n",
        "gpu_time = timeit.timeit('entrenamiento_gpu()', number=1, setup='from __main__ import entrenamiento_gpu')"
      ],
      "execution_count": null,
      "outputs": [
        {
          "output_type": "stream",
          "text": [
            "Epoch 1/2\n",
            "468/468 [==============================] - 36s 11ms/step - loss: 1.0158 - accuracy: 0.7075 - val_loss: 0.3890 - val_accuracy: 0.8678\n",
            "Epoch 2/2\n",
            "468/468 [==============================] - 5s 11ms/step - loss: 0.4040 - accuracy: 0.8585 - val_loss: 0.3238 - val_accuracy: 0.8867\n"
          ],
          "name": "stdout"
        }
      ]
    },
    {
      "cell_type": "code",
      "metadata": {
        "colab": {
          "base_uri": "https://localhost:8080/"
        },
        "id": "WT5OPNjUOnWV",
        "outputId": "bd84f85c-e7c1-4d13-c9b0-4cccb6268799"
      },
      "source": [
        "# Tiempo que tarda con la GPU\r\n",
        "print('Tiempo de entrenamiento: ' + str(gpu_time) + ' segundos')"
      ],
      "execution_count": null,
      "outputs": [
        {
          "output_type": "stream",
          "text": [
            "Tiempo de entrenamiento: 41.190914969000005 segundos\n"
          ],
          "name": "stdout"
        }
      ]
    },
    {
      "cell_type": "markdown",
      "metadata": {
        "id": "EkPNOQZGO04j"
      },
      "source": [
        "# Configuración TPU "
      ]
    },
    {
      "cell_type": "code",
      "metadata": {
        "colab": {
          "base_uri": "https://localhost:8080/"
        },
        "id": "Bo1vD7EhO200",
        "outputId": "b8a9e33d-9094-48cf-e709-8747fa5a6213"
      },
      "source": [
        "%tensorflow_version 2.x   # Para garantizar que la versión 2.x sea importada\r\n",
        "import tensorflow as tf\r\n",
        "print('Versión de TensorFlow: ' + tf.__version__)\r\n",
        "\r\n",
        "tf.random.set_seed(200)\r\n",
        "\r\n",
        "try:\r\n",
        "  tpu = tf.distribute.cluster_resolver.TPUClusterResolver(tpu='grpc://' + os.environ['COLAB_TPU_ADDR'])  # Detectar TPU\r\n",
        "  print('TPU encontrada ', tpu.cluster_spec().as_dict()['worker'])\r\n",
        "except ValueError:\r\n",
        "  raise BaseException('ERROR: TPU no encontrada!')\r\n",
        "\r\n",
        "tf.config.experimental_connect_to_cluster(tpu)\r\n",
        "tf.tpu.experimental.initialize_tpu_system(tpu)\r\n",
        "tpu_strategy = tf.distribute.experimental.TPUStrategy(tpu)"
      ],
      "execution_count": null,
      "outputs": [
        {
          "output_type": "stream",
          "text": [
            "`%tensorflow_version` only switches the major version: 1.x or 2.x.\n",
            "You set: `2.x   # Para garantizar que la versión 2.x sea importada`. This will be interpreted as: `2.x`.\n",
            "\n",
            "\n",
            "TensorFlow is already loaded. Please restart the runtime to change versions.\n",
            "Versión de TensorFlow: 2.4.1\n",
            "TPU encontrada  ['10.25.123.234:8470']\n",
            "INFO:tensorflow:Initializing the TPU system: grpc://10.25.123.234:8470\n"
          ],
          "name": "stdout"
        },
        {
          "output_type": "stream",
          "text": [
            "INFO:tensorflow:Initializing the TPU system: grpc://10.25.123.234:8470\n"
          ],
          "name": "stderr"
        },
        {
          "output_type": "stream",
          "text": [
            "INFO:tensorflow:Clearing out eager caches\n"
          ],
          "name": "stdout"
        },
        {
          "output_type": "stream",
          "text": [
            "INFO:tensorflow:Clearing out eager caches\n"
          ],
          "name": "stderr"
        },
        {
          "output_type": "stream",
          "text": [
            "INFO:tensorflow:Finished initializing TPU system.\n"
          ],
          "name": "stdout"
        },
        {
          "output_type": "stream",
          "text": [
            "INFO:tensorflow:Finished initializing TPU system.\n",
            "WARNING:absl:`tf.distribute.experimental.TPUStrategy` is deprecated, please use  the non experimental symbol `tf.distribute.TPUStrategy` instead.\n"
          ],
          "name": "stderr"
        },
        {
          "output_type": "stream",
          "text": [
            "INFO:tensorflow:Found TPU system:\n"
          ],
          "name": "stdout"
        },
        {
          "output_type": "stream",
          "text": [
            "INFO:tensorflow:Found TPU system:\n"
          ],
          "name": "stderr"
        },
        {
          "output_type": "stream",
          "text": [
            "INFO:tensorflow:*** Num TPU Cores: 8\n"
          ],
          "name": "stdout"
        },
        {
          "output_type": "stream",
          "text": [
            "INFO:tensorflow:*** Num TPU Cores: 8\n"
          ],
          "name": "stderr"
        },
        {
          "output_type": "stream",
          "text": [
            "INFO:tensorflow:*** Num TPU Workers: 1\n"
          ],
          "name": "stdout"
        },
        {
          "output_type": "stream",
          "text": [
            "INFO:tensorflow:*** Num TPU Workers: 1\n"
          ],
          "name": "stderr"
        },
        {
          "output_type": "stream",
          "text": [
            "INFO:tensorflow:*** Num TPU Cores Per Worker: 8\n"
          ],
          "name": "stdout"
        },
        {
          "output_type": "stream",
          "text": [
            "INFO:tensorflow:*** Num TPU Cores Per Worker: 8\n"
          ],
          "name": "stderr"
        },
        {
          "output_type": "stream",
          "text": [
            "INFO:tensorflow:*** Available Device: _DeviceAttributes(/job:localhost/replica:0/task:0/device:CPU:0, CPU, 0, 0)\n"
          ],
          "name": "stdout"
        },
        {
          "output_type": "stream",
          "text": [
            "INFO:tensorflow:*** Available Device: _DeviceAttributes(/job:localhost/replica:0/task:0/device:CPU:0, CPU, 0, 0)\n"
          ],
          "name": "stderr"
        },
        {
          "output_type": "stream",
          "text": [
            "INFO:tensorflow:*** Available Device: _DeviceAttributes(/job:worker/replica:0/task:0/device:CPU:0, CPU, 0, 0)\n"
          ],
          "name": "stdout"
        },
        {
          "output_type": "stream",
          "text": [
            "INFO:tensorflow:*** Available Device: _DeviceAttributes(/job:worker/replica:0/task:0/device:CPU:0, CPU, 0, 0)\n"
          ],
          "name": "stderr"
        },
        {
          "output_type": "stream",
          "text": [
            "INFO:tensorflow:*** Available Device: _DeviceAttributes(/job:worker/replica:0/task:0/device:TPU:0, TPU, 0, 0)\n"
          ],
          "name": "stdout"
        },
        {
          "output_type": "stream",
          "text": [
            "INFO:tensorflow:*** Available Device: _DeviceAttributes(/job:worker/replica:0/task:0/device:TPU:0, TPU, 0, 0)\n"
          ],
          "name": "stderr"
        },
        {
          "output_type": "stream",
          "text": [
            "INFO:tensorflow:*** Available Device: _DeviceAttributes(/job:worker/replica:0/task:0/device:TPU:1, TPU, 0, 0)\n"
          ],
          "name": "stdout"
        },
        {
          "output_type": "stream",
          "text": [
            "INFO:tensorflow:*** Available Device: _DeviceAttributes(/job:worker/replica:0/task:0/device:TPU:1, TPU, 0, 0)\n"
          ],
          "name": "stderr"
        },
        {
          "output_type": "stream",
          "text": [
            "INFO:tensorflow:*** Available Device: _DeviceAttributes(/job:worker/replica:0/task:0/device:TPU:2, TPU, 0, 0)\n"
          ],
          "name": "stdout"
        },
        {
          "output_type": "stream",
          "text": [
            "INFO:tensorflow:*** Available Device: _DeviceAttributes(/job:worker/replica:0/task:0/device:TPU:2, TPU, 0, 0)\n"
          ],
          "name": "stderr"
        },
        {
          "output_type": "stream",
          "text": [
            "INFO:tensorflow:*** Available Device: _DeviceAttributes(/job:worker/replica:0/task:0/device:TPU:3, TPU, 0, 0)\n"
          ],
          "name": "stdout"
        },
        {
          "output_type": "stream",
          "text": [
            "INFO:tensorflow:*** Available Device: _DeviceAttributes(/job:worker/replica:0/task:0/device:TPU:3, TPU, 0, 0)\n"
          ],
          "name": "stderr"
        },
        {
          "output_type": "stream",
          "text": [
            "INFO:tensorflow:*** Available Device: _DeviceAttributes(/job:worker/replica:0/task:0/device:TPU:4, TPU, 0, 0)\n"
          ],
          "name": "stdout"
        },
        {
          "output_type": "stream",
          "text": [
            "INFO:tensorflow:*** Available Device: _DeviceAttributes(/job:worker/replica:0/task:0/device:TPU:4, TPU, 0, 0)\n"
          ],
          "name": "stderr"
        },
        {
          "output_type": "stream",
          "text": [
            "INFO:tensorflow:*** Available Device: _DeviceAttributes(/job:worker/replica:0/task:0/device:TPU:5, TPU, 0, 0)\n"
          ],
          "name": "stdout"
        },
        {
          "output_type": "stream",
          "text": [
            "INFO:tensorflow:*** Available Device: _DeviceAttributes(/job:worker/replica:0/task:0/device:TPU:5, TPU, 0, 0)\n"
          ],
          "name": "stderr"
        },
        {
          "output_type": "stream",
          "text": [
            "INFO:tensorflow:*** Available Device: _DeviceAttributes(/job:worker/replica:0/task:0/device:TPU:6, TPU, 0, 0)\n"
          ],
          "name": "stdout"
        },
        {
          "output_type": "stream",
          "text": [
            "INFO:tensorflow:*** Available Device: _DeviceAttributes(/job:worker/replica:0/task:0/device:TPU:6, TPU, 0, 0)\n"
          ],
          "name": "stderr"
        },
        {
          "output_type": "stream",
          "text": [
            "INFO:tensorflow:*** Available Device: _DeviceAttributes(/job:worker/replica:0/task:0/device:TPU:7, TPU, 0, 0)\n"
          ],
          "name": "stdout"
        },
        {
          "output_type": "stream",
          "text": [
            "INFO:tensorflow:*** Available Device: _DeviceAttributes(/job:worker/replica:0/task:0/device:TPU:7, TPU, 0, 0)\n"
          ],
          "name": "stderr"
        },
        {
          "output_type": "stream",
          "text": [
            "INFO:tensorflow:*** Available Device: _DeviceAttributes(/job:worker/replica:0/task:0/device:TPU_SYSTEM:0, TPU_SYSTEM, 0, 0)\n"
          ],
          "name": "stdout"
        },
        {
          "output_type": "stream",
          "text": [
            "INFO:tensorflow:*** Available Device: _DeviceAttributes(/job:worker/replica:0/task:0/device:TPU_SYSTEM:0, TPU_SYSTEM, 0, 0)\n"
          ],
          "name": "stderr"
        },
        {
          "output_type": "stream",
          "text": [
            "INFO:tensorflow:*** Available Device: _DeviceAttributes(/job:worker/replica:0/task:0/device:XLA_CPU:0, XLA_CPU, 0, 0)\n"
          ],
          "name": "stdout"
        },
        {
          "output_type": "stream",
          "text": [
            "INFO:tensorflow:*** Available Device: _DeviceAttributes(/job:worker/replica:0/task:0/device:XLA_CPU:0, XLA_CPU, 0, 0)\n"
          ],
          "name": "stderr"
        }
      ]
    },
    {
      "cell_type": "markdown",
      "metadata": {
        "id": "AIhk7zFxPVSf"
      },
      "source": [
        "# Implementación modelo con TPU"
      ]
    },
    {
      "cell_type": "code",
      "metadata": {
        "colab": {
          "base_uri": "https://localhost:8080/"
        },
        "id": "qsl_MEt1Pj4N",
        "outputId": "8bf47dac-cb55-4584-e754-4c300573c4d2"
      },
      "source": [
        "\r\n",
        "with tpu_strategy.scope():\r\n",
        "  model = tf.keras.models.Sequential()\r\n",
        "  model.add(tf.keras.layers.BatchNormalization(input_shape=X_train.shape[1:]))\r\n",
        "  model.add(tf.keras.layers.Conv2D(64, (5, 5), padding='same', activation='elu'))\r\n",
        "  model.add(tf.keras.layers.MaxPooling2D(pool_size=(2, 2), strides=(2,2)))\r\n",
        "  model.add(tf.keras.layers.Dropout(0.25))\r\n",
        "\r\n",
        "  model.add(tf.keras.layers.BatchNormalization(input_shape=X_train.shape[1:]))\r\n",
        "  model.add(tf.keras.layers.Conv2D(128, (5, 5), padding='same', activation='elu'))\r\n",
        "  model.add(tf.keras.layers.MaxPooling2D(pool_size=(2, 2)))\r\n",
        "  model.add(tf.keras.layers.Dropout(0.25))\r\n",
        "\r\n",
        "  model.add(tf.keras.layers.BatchNormalization(input_shape=X_train.shape[1:]))\r\n",
        "  model.add(tf.keras.layers.Conv2D(256, (5, 5), padding='same', activation='elu'))\r\n",
        "  model.add(tf.keras.layers.MaxPooling2D(pool_size=(2, 2), strides=(2,2)))\r\n",
        "  model.add(tf.keras.layers.Dropout(0.25))\r\n",
        "\r\n",
        "  model.add(tf.keras.layers.Flatten())\r\n",
        "  model.add(tf.keras.layers.Dense(256))\r\n",
        "  model.add(tf.keras.layers.Activation('elu'))\r\n",
        "  model.add(tf.keras.layers.Dropout(0.5))\r\n",
        "  model.add(tf.keras.layers.Dense(10))\r\n",
        "  model.add(tf.keras.layers.Activation('softmax'))\r\n",
        "  model.summary()\r\n",
        "\r\n",
        "  model.compile(optimizer='adam',loss='sparse_categorical_crossentropy',metrics=['accuracy'])"
      ],
      "execution_count": null,
      "outputs": [
        {
          "output_type": "stream",
          "text": [
            "Model: \"sequential_2\"\n",
            "_________________________________________________________________\n",
            "Layer (type)                 Output Shape              Param #   \n",
            "=================================================================\n",
            "batch_normalization_3 (Batch (None, 28, 28, 1)         4         \n",
            "_________________________________________________________________\n",
            "conv2d_3 (Conv2D)            (None, 28, 28, 64)        1664      \n",
            "_________________________________________________________________\n",
            "max_pooling2d_3 (MaxPooling2 (None, 14, 14, 64)        0         \n",
            "_________________________________________________________________\n",
            "dropout_4 (Dropout)          (None, 14, 14, 64)        0         \n",
            "_________________________________________________________________\n",
            "batch_normalization_4 (Batch (None, 14, 14, 64)        256       \n",
            "_________________________________________________________________\n",
            "conv2d_4 (Conv2D)            (None, 14, 14, 128)       204928    \n",
            "_________________________________________________________________\n",
            "max_pooling2d_4 (MaxPooling2 (None, 7, 7, 128)         0         \n",
            "_________________________________________________________________\n",
            "dropout_5 (Dropout)          (None, 7, 7, 128)         0         \n",
            "_________________________________________________________________\n",
            "batch_normalization_5 (Batch (None, 7, 7, 128)         512       \n",
            "_________________________________________________________________\n",
            "conv2d_5 (Conv2D)            (None, 7, 7, 256)         819456    \n",
            "_________________________________________________________________\n",
            "max_pooling2d_5 (MaxPooling2 (None, 3, 3, 256)         0         \n",
            "_________________________________________________________________\n",
            "dropout_6 (Dropout)          (None, 3, 3, 256)         0         \n",
            "_________________________________________________________________\n",
            "flatten_1 (Flatten)          (None, 2304)              0         \n",
            "_________________________________________________________________\n",
            "dense_2 (Dense)              (None, 256)               590080    \n",
            "_________________________________________________________________\n",
            "activation_2 (Activation)    (None, 256)               0         \n",
            "_________________________________________________________________\n",
            "dropout_7 (Dropout)          (None, 256)               0         \n",
            "_________________________________________________________________\n",
            "dense_3 (Dense)              (None, 10)                2570      \n",
            "_________________________________________________________________\n",
            "activation_3 (Activation)    (None, 10)                0         \n",
            "=================================================================\n",
            "Total params: 1,619,470\n",
            "Trainable params: 1,619,084\n",
            "Non-trainable params: 386\n",
            "_________________________________________________________________\n"
          ],
          "name": "stdout"
        }
      ]
    },
    {
      "cell_type": "code",
      "metadata": {
        "colab": {
          "base_uri": "https://localhost:8080/"
        },
        "id": "t4YuixQIQEZY",
        "outputId": "6f6645e8-9298-4684-c112-f8a7366ab90d"
      },
      "source": [
        "import timeit\r\n",
        "\r\n",
        "x_train = X_train.astype(np.float32)\r\n",
        "y_train = Y_train.astype(np.float32)\r\n",
        "x_test = X_test.astype(np.float32)\r\n",
        "y_test = Y_test.astype(np.float32)\r\n",
        "\r\n",
        "def entrenamiento_tpu():\r\n",
        "  model.fit(x_train,y_train,validation_data=(x_test,y_test), batch_size=128, epochs=2, verbose=1)\r\n",
        "  \r\n",
        "  return None\r\n",
        "\r\n",
        "tpu_time = timeit.timeit('entrenamiento_tpu()', number=1, setup='from __main__ import entrenamiento_tpu')"
      ],
      "execution_count": null,
      "outputs": [
        {
          "output_type": "stream",
          "text": [
            "Epoch 1/2\n",
            "468/468 [==============================] - 14s 21ms/step - loss: 1.0423 - accuracy: 0.7044 - val_loss: 0.3980 - val_accuracy: 0.8616\n",
            "Epoch 2/2\n",
            "468/468 [==============================] - 8s 18ms/step - loss: 0.4246 - accuracy: 0.8519 - val_loss: 0.3288 - val_accuracy: 0.8867\n"
          ],
          "name": "stdout"
        }
      ]
    },
    {
      "cell_type": "code",
      "metadata": {
        "colab": {
          "base_uri": "https://localhost:8080/"
        },
        "id": "G4Z2JJiqQMvF",
        "outputId": "82d9a3d6-5fa1-44bd-e3eb-5ae7d92e25cf"
      },
      "source": [
        "# Tiempo que tarda con la TPU\r\n",
        "print('Tiempo de entrenamiento: ' + str(tpu_time) + ' segundos')"
      ],
      "execution_count": null,
      "outputs": [
        {
          "output_type": "stream",
          "text": [
            "Tiempo de entrenamiento: 25.845231652000052 segundos\n"
          ],
          "name": "stdout"
        }
      ]
    },
    {
      "cell_type": "code",
      "metadata": {
        "id": "g6yYDy1jPhBa"
      },
      "source": [
        ""
      ],
      "execution_count": null,
      "outputs": []
    }
  ]
}